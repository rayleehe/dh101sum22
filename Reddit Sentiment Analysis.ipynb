{
 "cells": [
  {
   "cell_type": "markdown",
   "metadata": {},
   "source": [
    "# Political Subreddit Sentiment Analysis\n",
    "## A project for DH101 Summer 2022 by Ray He\n",
    "\n",
    "This project seeks to use sentiment analysis across data obtained from some political subreddits to try and determine whether different political communities respond to the same current events in the same way. Sentiment analysis describes a Natural Language Processing technique where digital tools are used to analyze text data and determine whether that data is positive or negative.\n",
    "\n",
    "Note: There may be some installation steps needed to obtain the proper libraries used in the import statements of this notebook to your own machine. All of these installations can easily be run using pip install [insert service name here] in a separate code cell to obtain the dependencies used by this notebook."
   ]
  },
  {
   "cell_type": "code",
   "execution_count": null,
   "metadata": {},
   "outputs": [],
   "source": [
    "# Change 'praw' value to dependency you may need\n",
    "# i.e. 'pip install nltk' if nltk is not istalled. \n",
    "pip install praw"
   ]
  },
  {
   "cell_type": "markdown",
   "metadata": {},
   "source": [
    "## Setup Lines"
   ]
  },
  {
   "cell_type": "code",
   "execution_count": 32,
   "metadata": {},
   "outputs": [],
   "source": [
    "import pandas as pd\n",
    "import numpy as np\n",
    "import nltk\n",
    "from nltk.sentiment.vader import SentimentIntensityAnalyzer\n",
    "import seaborn as sns\n",
    "from IPython import display\n",
    "from pprint import pprint\n",
    "import praw\n",
    "from matplotlib import pyplot"
   ]
  },
  {
   "cell_type": "markdown",
   "metadata": {},
   "source": [
    "The 'vader_lexicon' being downloaded below will help us perform our sentiment analysis. VADER stands for Valence Aware Dictionary and sEntiment Reasoner and is a peer reviewed tool that is specifically tuned towards sentiments expressed in social media."
   ]
  },
  {
   "cell_type": "code",
   "execution_count": 33,
   "metadata": {
    "scrolled": true
   },
   "outputs": [
    {
     "name": "stderr",
     "output_type": "stream",
     "text": [
      "[nltk_data] Downloading package vader_lexicon to\n",
      "[nltk_data]     /Users/rayleehe/nltk_data...\n",
      "[nltk_data]   Package vader_lexicon is already up-to-date!\n",
      "[nltk_data] Downloading package stopwords to\n",
      "[nltk_data]     /Users/rayleehe/nltk_data...\n",
      "[nltk_data]   Package stopwords is already up-to-date!\n"
     ]
    },
    {
     "data": {
      "text/plain": [
       "True"
      ]
     },
     "execution_count": 33,
     "metadata": {},
     "output_type": "execute_result"
    }
   ],
   "source": [
    "nltk.download('vader_lexicon')\n",
    "nltk.download('stopwords')"
   ]
  },
  {
   "cell_type": "markdown",
   "metadata": {},
   "source": [
    "You will need to create your own reddit instance. Follow the steps here: https://github.com/reddit-archive/reddit/wiki/OAuth2-Quick-Start-Example#first-steps to obtain your own client id, secret and user agent."
   ]
  },
  {
   "cell_type": "code",
   "execution_count": 34,
   "metadata": {},
   "outputs": [],
   "source": [
    "reddit = praw.Reddit(client_id=\"your client id\",\n",
    "                     client_secret=\"your client secret\",\n",
    "                     user_agent=\"your user agent\")"
   ]
  },
  {
   "cell_type": "markdown",
   "metadata": {},
   "source": [
    "In this project, we will examine sentiment analysis across the following subreddits: r/politics, r/politicalcompassmemes, r/SandersForPresident, and r/Conservative. \n",
    "\n",
    "r/politics was chosen to act as a form of \"control\". Ideally, r/politics would be a subreddit that encompasses members from all across the political spectrum, and we would expect this subreddit to be more neutral.\n",
    "r/politicalcompassmemes was chosen as this is a satirical subreddit that is also meant to serve as a discussion board for members across the political spectrum.\n",
    "r/SandersForPresident and r/Conservative were chosen as examples of a left-leaning and right-leaning subreddit respectively. r/SandersForPresident was chosen over r/Liberal as it has about five times the members with 513k subscribers at time of writing and is the closest subreddit of comparable size to r/conservative's 977k members."
   ]
  },
  {
   "cell_type": "markdown",
   "metadata": {},
   "source": [
    "## Getting Data\n",
    "\n",
    "First, we will examine the headlines of the top 100 hottest posts in each of the subreddits. The \"hot\" category of a subreddit refers to recent posts that are popular within the community and will give the best \"real time\" sense of collective sentiment within a subreddit. The \"hot\" category will also allow us to control for current events as each subreddit will have posts related to the same current events; thus, we can get a more accurate picture of how each subreddit communicates in relation with each other.\n"
   ]
  },
  {
   "cell_type": "code",
   "execution_count": 35,
   "metadata": {},
   "outputs": [],
   "source": [
    "politics_headlines = list()\n",
    "for sub in reddit.subreddit('politics').hot(limit=100):\n",
    "    politics_headlines.append(sub.title)"
   ]
  },
  {
   "cell_type": "code",
   "execution_count": 36,
   "metadata": {},
   "outputs": [],
   "source": [
    "pcm_headlines = list()\n",
    "for sub in reddit.subreddit('politicalcompassmemes').hot(limit=100):\n",
    "    pcm_headlines.append(sub.title)"
   ]
  },
  {
   "cell_type": "code",
   "execution_count": 37,
   "metadata": {},
   "outputs": [],
   "source": [
    "s4p_headlines = list()\n",
    "for sub in reddit.subreddit('sandersforpresident').hot(limit=100):\n",
    "    s4p_headlines.append(sub.title)"
   ]
  },
  {
   "cell_type": "code",
   "execution_count": 38,
   "metadata": {},
   "outputs": [],
   "source": [
    "conservative_headlines = list()\n",
    "for sub in reddit.subreddit('conservative').hot(limit=100):\n",
    "    conservative_headlines.append(sub.title)\n",
    "    "
   ]
  },
  {
   "cell_type": "markdown",
   "metadata": {},
   "source": [
    "## Sentiment Analysis of Headlines"
   ]
  },
  {
   "cell_type": "code",
   "execution_count": 8,
   "metadata": {},
   "outputs": [],
   "source": [
    "sentiment_analyzer = SentimentIntensityAnalyzer()\n",
    "\n",
    "politics_results = []\n",
    "pcm_results = []\n",
    "s4p_results = []\n",
    "conservative_results = []\n",
    "\n",
    "# Using the sentiment analyzer w/ the VADER lexicon,\n",
    "# obtain sentiment scores for each headline\n",
    "for headline in politics_headlines:\n",
    "    scores = sentiment_analyzer.polarity_scores(headline)\n",
    "    scores['headline'] = headline\n",
    "    politics_results.append(scores)\n",
    "politics_df = pd.DataFrame.from_records(politics_results)\n",
    "\n",
    "for headline in pcm_headlines:\n",
    "    scores = sentiment_analyzer.polarity_scores(headline)\n",
    "    scores['headline'] = headline\n",
    "    pcm_results.append(scores)\n",
    "pcm_df = pd.DataFrame.from_records(pcm_results)\n",
    "\n",
    "for headline in s4p_headlines:\n",
    "    scores = sentiment_analyzer.polarity_scores(headline)\n",
    "    scores['headline'] = headline\n",
    "    s4p_results.append(scores)\n",
    "s4p_df = pd.DataFrame.from_records(s4p_results)\n",
    "\n",
    "for headline in conservative_headlines:\n",
    "    scores = sentiment_analyzer.polarity_scores(headline)\n",
    "    scores['headline'] = headline\n",
    "    conservative_results.append(scores)\n",
    "conservative_df = pd.DataFrame.from_records(conservative_results)"
   ]
  },
  {
   "cell_type": "code",
   "execution_count": 9,
   "metadata": {},
   "outputs": [],
   "source": [
    "# Label all the positive headlines (score > 0.1) and negative headlines (score < -0.1)\n",
    "# Then sort each df by score, by default, the sort will rearrange the df from\n",
    "# most negative headlines at the top to most positive headlines at the bottom.\n",
    "politics_df['label'] = 0\n",
    "politics_df.loc[politics_df['compound'] > 0.1, 'label'] = 1\n",
    "politics_df.loc[politics_df['compound'] < -0.1, 'label'] = 1\n",
    "politics_df = politics_df.sort_values(by=\"compound\")\n",
    "\n",
    "pcm_df['label'] = 0\n",
    "pcm_df.loc[pcm_df['compound'] > 0.1, 'label'] = 1\n",
    "pcm_df.loc[pcm_df['compound'] < -0.1, 'label'] = 1\n",
    "pcm_df = pcm_df.sort_values(by=\"compound\")\n",
    "\n",
    "s4p_df['label'] = 0\n",
    "s4p_df.loc[s4p_df['compound'] > 0.1, 'label'] = 1\n",
    "s4p_df.loc[s4p_df['compound'] < -0.1, 'label'] = 1\n",
    "s4p_df = s4p_df.sort_values(by=\"compound\")\n",
    "\n",
    "conservative_df['label'] = 0\n",
    "conservative_df.loc[conservative_df['compound'] > 0.1, 'label'] = 1\n",
    "conservative_df.loc[conservative_df['compound'] < -0.1, 'label'] = 1\n",
    "conservative_df = conservative_df.sort_values(by=\"compound\")\n"
   ]
  },
  {
   "cell_type": "code",
   "execution_count": 10,
   "metadata": {},
   "outputs": [
    {
     "name": "stdout",
     "output_type": "stream",
     "text": [
      "The most negative headlines by subreddit:\n",
      "\n",
      "r/Politics: \n",
      "\n",
      "['Stephanie Grisham shared texts that appear to show how Melania Trump refused to condemn violence '\n",
      " 'during the Capitol riot',\n",
      " 'Jan. 6 Suddenly Looks a Hell of a Lot Worse: And it already looked like a violent insurrection.',\n",
      " \"Alito's Bad History Meets the Vendetta of Clarence Thomas | If democracy dies, it will take a \"\n",
      " 'long and mighty struggle to get it back. In the interim, the personal damage to millions of '\n",
      " 'Americans will be irreparable.',\n",
      " \"Trump said 'I don't effing care that they have weapons. They're not here to hurt me' as an angry \"\n",
      " 'mob avoided metal detectors at his January 6 speech: ex-aide testimony',\n",
      " \"ACLU of Ohio, Planned Parenthood file lawsuit seeking to block Ohio's six-week abortion ban\"]\n",
      "\n",
      "\n",
      "r/PoliticalCompassMemes: \n",
      "\n",
      "['If you want assisted abortion argue your case. Assisted suicide is illegal in nearly all cases. '\n",
      " 'Why should assisted abortion be legal?',\n",
      " 'Hot Take: Opinion of USA bad. So other countries are allowed to do bad things',\n",
      " 'Lost in the Roe shit storm news cycle',\n",
      " 'Libleft in India are blaming beheaded victim for being Islamophobe.',\n",
      " \"Our changing climate is a serious concern and Reddit's misanthropic disdain for human life isn't \"\n",
      " 'helping.']\n",
      "\n",
      "\n",
      "r/SandersForPresident: \n",
      "\n",
      "['Bernie: Democrats risk a crushing defeat this year. They must change course now',\n",
      " 'Biden is reportedly angry at Democrats who refuse to go down with his ship',\n",
      " 'Senator Sanders tells striking Burlington workers the problem is corporate greed',\n",
      " 'Daddy is pissed',\n",
      " 'Obscene.']\n",
      "\n",
      "\n",
      "r/Conservative: \n",
      "\n",
      "['Raging Democratic Socialists Mourn their Lost Sacrament: Abortion',\n",
      " 'Ghislaine Maxwell is about to be sentenced, but she just name-dropped the Clintons in court '\n",
      " 'documents and has been moved to suicide watch',\n",
      " 'BREAKING: Ghislaine Maxwell has tragically committed suicide next week',\n",
      " 'Choosing death at 20: B.C. man says medically assisted dying is best way to end the pain of '\n",
      " 'undiagnosed illness',\n",
      " 'What about cases of rape?']\n"
     ]
    }
   ],
   "source": [
    "print(\"The most negative headlines by subreddit:\\n\")\n",
    "print(\"r/Politics: \\n\")\n",
    "pprint(list(politics_df['headline'])[:5], width=100)\n",
    "print(\"\\n\")\n",
    "print(\"r/PoliticalCompassMemes: \\n\")\n",
    "pprint(list(pcm_df['headline'])[:5], width=100)\n",
    "print(\"\\n\")\n",
    "print(\"r/SandersForPresident: \\n\")\n",
    "pprint(list(s4p_df['headline'])[:5], width=100)\n",
    "print(\"\\n\")\n",
    "print(\"r/Conservative: \\n\")\n",
    "pprint(list(conservative_df['headline'])[:5], width=100)"
   ]
  },
  {
   "cell_type": "code",
   "execution_count": 11,
   "metadata": {},
   "outputs": [
    {
     "name": "stdout",
     "output_type": "stream",
     "text": [
      "The most positive headlines by subreddit:\n",
      "\n",
      "r/Politics: \n",
      "\n",
      "[\"Gorsuch fumes that the Supreme Court 'failed' to 'honor this Nation's promises' as it rolled \"\n",
      " 'back tribal authority in Oklahoma',\n",
      " 'Republican Who Hailed Abortion Decision As Win For ‘White Life’ Wins House Primary',\n",
      " \"If The Framers' Text Is The Ultimate Authority, The Supreme Court Must Strip Itself Of Power | \"\n",
      " 'Supreme Court justices make the decisions that they want to make because they want to make them.',\n",
      " 'Supreme Court Justice Stephen Breyer will retire Thursday, to be replaced by Ketanji Brown '\n",
      " 'Jackson',\n",
      " 'Supreme Court Justice Breyer to retire Thursday at noon']\n",
      "\n",
      "\n",
      "r/PoliticalCompassMemes: \n",
      "\n",
      "['Not a meme, a cry for help!!!',\n",
      " 'I LOVE 5TH GENERATION FIGHTER JETS',\n",
      " \"PCM of shoes I wear. Yes, I own Toms. Yes, I'm a heterosexual.\",\n",
      " 'Ah yes, liberalism is when you support gay marriage',\n",
      " 'You and I agreeing on some stuff doesn’t necessarily mean I find you attractive']\n",
      "\n",
      "\n",
      "r/SandersForPresident: \n",
      "\n",
      "[\"Joe Biden isn't going to fight the Supreme Court because he AGREES with the Supreme Court. He \"\n",
      " 'has fought against abortion access for 50 years. He is dragging us backwards. We cannot have '\n",
      " 'Biden as a nominee in 2024.',\n",
      " 'Rebecca Parson is running against a corporate incumbent in Tacoma, Washington! Running on '\n",
      " 'Housing For All, National Rent Control, & $30 minimum wage. AMA coming on June 30th... in the '\n",
      " 'meantime, enjoy one of the best campaign videos ever!',\n",
      " 'Biden Taps Anti-Social Security Ideologue To Oversee Program | Biden nominated Andrew Biggs, a '\n",
      " 'think tank denizen with a history of slamming Social Security, to oversee government retirement '\n",
      " 'benefits for 66 million Americans.',\n",
      " 'We must recommit to building a nation based on justice and compassion.',\n",
      " 'Yes! We need to organize and protect each other now!']\n",
      "\n",
      "\n",
      "r/Conservative: \n",
      "\n",
      "[\"Supreme Court Justice Stephen Breyer to retire Thursday: 'It has been my great honor'\",\n",
      " 'Who else is thankful for this pro-life heroine? Countless lives will be saved because of her.',\n",
      " 'Hershel ‘Woody’ Williams, The Last Living Medal Of Honor Winner From WWII, Dies At The Age Of 98',\n",
      " 'Comedian Wanda Sykes Is Mad That Rich Coastal Elites Like Her Don’t Rule All',\n",
      " 'Trump-backed Bailey wins GOP gubernatorial primary in Illinois']\n"
     ]
    }
   ],
   "source": [
    "print(\"The most positive headlines by subreddit:\\n\")\n",
    "print(\"r/Politics: \\n\")\n",
    "pprint(list(politics_df['headline'])[::-1][:5], width=100)\n",
    "print(\"\\n\")\n",
    "print(\"r/PoliticalCompassMemes: \\n\")\n",
    "pprint(list(pcm_df['headline'])[::-1][:5], width=100)\n",
    "print(\"\\n\")\n",
    "print(\"r/SandersForPresident: \\n\")\n",
    "pprint(list(s4p_df['headline'])[::-1][:5], width=100)\n",
    "print(\"\\n\")\n",
    "print(\"r/Conservative: \\n\")\n",
    "pprint(list(conservative_df['headline'])[::-1][:5], width=100)"
   ]
  },
  {
   "cell_type": "code",
   "execution_count": 12,
   "metadata": {
    "scrolled": true
   },
   "outputs": [
    {
     "data": {
      "image/png": "[encoded data removed]",
      "text/plain": [
       "<Figure size 432x288 with 1 Axes>"
      ]
     },
     "metadata": {
      "needs_background": "light"
     },
     "output_type": "display_data"
    }
   ],
   "source": [
    "data = pd.DataFrame({\"Politics\": politics_df[\"compound\"],\n",
    "                     \"PCM\": pcm_df[\"compound\"],\n",
    "                     \"S4P\": s4p_df[\"compound\"],\n",
    "                     \"Conservative\": conservative_df[\"compound\"]})\n",
    "ax = data[['Politics', 'PCM', 'S4P', 'Conservative']].plot(kind='box',\n",
    "                                                          title='Sentiment Score Distribution by Subreddit')"
   ]
  },
  {
   "cell_type": "code",
   "execution_count": 13,
   "metadata": {},
   "outputs": [
    {
     "data": {
      "image/png": "[encoded data removed]",
      "text/plain": [
       "<Figure size 432x288 with 1 Axes>"
      ]
     },
     "metadata": {
      "needs_background": "light"
     },
     "output_type": "display_data"
    }
   ],
   "source": [
    "# Ideally, the bins would be a range of -1 to 1 with size gradient of 0.1\n",
    "# However, numpy doesn't currently allow floats so we rescale our scores.\n",
    "bins = np.linspace(-10, 10, 10)\n",
    "politics = politics_df['compound'] * 10\n",
    "pcm = pcm_df['compound'] * 10\n",
    "pyplot.hist(politics, bins, alpha=0.5, label='politics')\n",
    "pyplot.hist(pcm, bins, alpha=0.5, label='pcm')\n",
    "pyplot.legend(loc='upper right')\n",
    "pyplot.show()"
   ]
  },
  {
   "cell_type": "code",
   "execution_count": 14,
   "metadata": {},
   "outputs": [
    {
     "data": {
      "image/png": "[encoded data removed]",
      "text/plain": [
       "<Figure size 432x288 with 1 Axes>"
      ]
     },
     "metadata": {
      "needs_background": "light"
     },
     "output_type": "display_data"
    }
   ],
   "source": [
    "bins = np.linspace(-10, 10, 10)\n",
    "s4p = s4p_df['compound'] * 10\n",
    "conservative = conservative_df['compound'] * 10\n",
    "pyplot.hist(s4p, bins, alpha=0.5, label='S4P')\n",
    "pyplot.hist(conservative, bins, alpha=0.5, label='Conservative')\n",
    "pyplot.legend(loc='upper right')\n",
    "pyplot.show()"
   ]
  },
  {
   "cell_type": "code",
   "execution_count": 15,
   "metadata": {},
   "outputs": [],
   "source": [
    "politics_filtered = politics_df[politics_df['label'] == 1]\n",
    "pcm_filtered = pcm_df[pcm_df['label'] == 1]\n",
    "s4p_filtered = s4p_df[s4p_df['label'] == 1]\n",
    "conservative_filtered = conservative_df[conservative_df['label'] == 1]"
   ]
  },
  {
   "cell_type": "code",
   "execution_count": 31,
   "metadata": {},
   "outputs": [
    {
     "data": {
      "image/png": "[encoded data removed]",
      "text/plain": [
       "<Figure size 432x288 with 1 Axes>"
      ]
     },
     "metadata": {
      "needs_background": "light"
     },
     "output_type": "display_data"
    }
   ],
   "source": [
    "data = pd.DataFrame({\"Politics\": politics_filtered[\"compound\"],\n",
    "                     \"PCM\": pcm_filtered[\"compound\"],\n",
    "                     \"S4P\": s4p_filtered[\"compound\"],\n",
    "                     \"Conservative\": conservative_filtered[\"compound\"]})\n",
    "ax = data[['Politics', 'PCM', 'S4P', 'Conservative']].plot(kind='box',\n",
    "                                                          title='Headline Sentiment Score Distribution by Subreddit')"
   ]
  },
  {
   "cell_type": "code",
   "execution_count": 17,
   "metadata": {},
   "outputs": [
    {
     "data": {
      "image/png": "[encoded data removed]",
      "text/plain": [
       "<Figure size 432x288 with 1 Axes>"
      ]
     },
     "metadata": {
      "needs_background": "light"
     },
     "output_type": "display_data"
    }
   ],
   "source": [
    "bins = np.linspace(-10, 10, 10)\n",
    "politics = politics_filtered['compound'] * 10\n",
    "pcm = pcm_filtered['compound'] * 10\n",
    "pyplot.hist(politics, bins, alpha=0.5, label='politics')\n",
    "pyplot.hist(pcm, bins, alpha=0.5, label='pcm')\n",
    "pyplot.legend(loc='upper right')\n",
    "pyplot.show()"
   ]
  },
  {
   "cell_type": "code",
   "execution_count": 28,
   "metadata": {},
   "outputs": [
    {
     "data": {
      "image/png": "[encoded data removed]",
      "text/plain": [
       "<Figure size 432x288 with 1 Axes>"
      ]
     },
     "metadata": {
      "needs_background": "light"
     },
     "output_type": "display_data"
    }
   ],
   "source": [
    "bins = np.linspace(-10, 10, 20)\n",
    "s4p = s4p_filtered['compound'] * 10\n",
    "conservative = conservative_filtered['compound'] * 10\n",
    "pyplot.hist(s4p, bins, alpha=0.5, label='S4P')\n",
    "pyplot.hist(conservative, bins, alpha=0.5, label='Conservative')\n",
    "pyplot.legend(loc='upper right')\n",
    "pyplot.show()"
   ]
  },
  {
   "cell_type": "markdown",
   "metadata": {},
   "source": [
    "To display the following images in the notebook, add a \"!\" character in front of each line.\n",
    "[S4P vs. Coservative 6/28](s4pvconservative.png)\n",
    "[Politics vs. PCM 6/28](politicsvpcm.png)"
   ]
  },
  {
   "cell_type": "markdown",
   "metadata": {},
   "source": [
    "## Sentiment Analysis of Comments\n",
    "Note: The following cell takes a LONG time to run"
   ]
  },
  {
   "cell_type": "code",
   "execution_count": 19,
   "metadata": {},
   "outputs": [],
   "source": [
    "# Obtain top-level comments of the top 50 \"hottest\" posts.\n",
    "# We are only obtaining 50 here as 100 posts takes far too long to index.\n",
    "# (close to 15 minutes).\n",
    "# Top-level commets tell us how people react to the post\n",
    "# but there is data lost in response comments reacting to the\n",
    "# reaction. I chose to not include these response comments as it \n",
    "# drastically slows down notebook performance but the analysis likely could be done\n",
    "# on a faster machine.\n",
    "politics_comments = []\n",
    "pcm_comments = []\n",
    "s4p_comments = []\n",
    "conservative_comments = []\n",
    "\n",
    "politics_posts = reddit.subreddit(\"politics\").hot(limit=50)\n",
    "for post in politics_posts:\n",
    "    url = \"https://www.reddit.com\" + post.permalink\n",
    "    post_content = reddit.submission(url=url)\n",
    "    post_content.comments.replace_more(limit=0)\n",
    "    post_content.comment_limit=100\n",
    "    for comment in post_content.comments:\n",
    "        politics_comments.append(comment.body)\n",
    "\n",
    "pcm_posts = reddit.subreddit(\"politicalcompassmemes\").hot(limit=50)\n",
    "for post in pcm_posts:\n",
    "    url = \"https://www.reddit.com\" + post.permalink\n",
    "    post_content = reddit.submission(url=url)\n",
    "    post_content.comments.replace_more(limit=0)\n",
    "    post_content.comment_limit=100\n",
    "    for comment in post_content.comments:\n",
    "        pcm_comments.append(comment.body)\n",
    "        \n",
    "s4p_posts = reddit.subreddit(\"sandersforpresident\").hot(limit=50)\n",
    "for post in s4p_posts:\n",
    "    url = \"https://www.reddit.com\" + post.permalink\n",
    "    post_content = reddit.submission(url=url)\n",
    "    post_content.comments.replace_more(limit=0)\n",
    "    post_content.comment_limit=100\n",
    "    for comment in post_content.comments:\n",
    "        s4p_comments.append(comment.body)\n",
    "        \n",
    "conservative_posts = reddit.subreddit(\"conservative\").hot(limit=50)\n",
    "for post in conservative_posts:\n",
    "    url = \"https://www.reddit.com\" + post.permalink\n",
    "    post_content = reddit.submission(url=url)\n",
    "    post_content.comments.replace_more(limit=0)\n",
    "    post_content.comment_limit=100\n",
    "    for comment in post_content.comments:\n",
    "        conservative_comments.append(comment.body)"
   ]
  },
  {
   "cell_type": "code",
   "execution_count": 20,
   "metadata": {},
   "outputs": [],
   "source": [
    "sentiment_analyzer = SentimentIntensityAnalyzer()\n",
    "\n",
    "politics_results = []\n",
    "pcm_results = []\n",
    "s4p_results = []\n",
    "conservative_results = []\n",
    "\n",
    "# Using the sentiment analyzer w/ the VADER lexicon,\n",
    "# obtain sentiment scores for each comment\n",
    "for comment in politics_comments:\n",
    "    scores = sentiment_analyzer.polarity_scores(comment)\n",
    "    scores['comment'] = comment\n",
    "    politics_results.append(scores)\n",
    "politics_comm_df = pd.DataFrame.from_records(politics_results)\n",
    "\n",
    "for comment in pcm_comments:\n",
    "    scores = sentiment_analyzer.polarity_scores(comment)\n",
    "    scores['comment'] = comment\n",
    "    pcm_results.append(scores)\n",
    "pcm_comm_df = pd.DataFrame.from_records(pcm_results)\n",
    "\n",
    "for comment in s4p_comments:\n",
    "    scores = sentiment_analyzer.polarity_scores(comment)\n",
    "    scores['comment'] = comment\n",
    "    s4p_results.append(scores)\n",
    "s4p_comm_df = pd.DataFrame.from_records(s4p_results)\n",
    "\n",
    "for comment in conservative_comments:\n",
    "    scores = sentiment_analyzer.polarity_scores(comment)\n",
    "    scores['comment'] = comment\n",
    "    conservative_results.append(scores)\n",
    "conservative_comm_df = pd.DataFrame.from_records(conservative_results)\n",
    "\n",
    "# Just as we did for headlines, we will add labels to scores and sort the dataframe by score.\n",
    "politics_comm_df['label'] = 0\n",
    "politics_comm_df.loc[politics_comm_df['compound'] > 0.1, 'label'] = 1\n",
    "politics_comm_df.loc[politics_comm_df['compound'] < -0.1, 'label'] = 1\n",
    "politics_comm_df = politics_comm_df.sort_values(by=\"compound\")\n",
    "\n",
    "pcm_comm_df['label'] = 0\n",
    "pcm_comm_df.loc[pcm_comm_df['compound'] > 0.1, 'label'] = 1\n",
    "pcm_comm_df.loc[pcm_comm_df['compound'] < -0.1, 'label'] = 1\n",
    "pcm_comm_df = pcm_comm_df.sort_values(by=\"compound\")\n",
    "\n",
    "s4p_comm_df['label'] = 0\n",
    "s4p_comm_df.loc[s4p_comm_df['compound'] > 0.1, 'label'] = 1\n",
    "s4p_comm_df.loc[s4p_comm_df['compound'] < -0.1, 'label'] = 1\n",
    "s4p_comm_df = s4p_comm_df.sort_values(by=\"compound\")\n",
    "\n",
    "conservative_comm_df['label'] = 0\n",
    "conservative_comm_df.loc[conservative_comm_df['compound'] > 0.1, 'label'] = 1\n",
    "conservative_comm_df.loc[conservative_comm_df['compound'] < -0.1, 'label'] = 1\n",
    "conservative_comm_df = conservative_comm_df.sort_values(by=\"compound\")"
   ]
  },
  {
   "cell_type": "code",
   "execution_count": 30,
   "metadata": {},
   "outputs": [
    {
     "data": {
      "image/png": "[encoded data removed]",
      "text/plain": [
       "<Figure size 432x288 with 1 Axes>"
      ]
     },
     "metadata": {
      "needs_background": "light"
     },
     "output_type": "display_data"
    }
   ],
   "source": [
    "data = pd.DataFrame({\"Politics\": politics_comm_df[\"compound\"],\n",
    "                     \"PCM\": pcm_comm_df[\"compound\"],\n",
    "                     \"S4P\": s4p_comm_df[\"compound\"],\n",
    "                     \"Conservative\": conservative_comm_df[\"compound\"]})\n",
    "ax = data[['Politics', 'PCM', 'S4P', 'Conservative']].plot(kind='box',\n",
    "                                                          title='Comment Sentiment Score Distribution by Subreddit')"
   ]
  },
  {
   "cell_type": "code",
   "execution_count": 22,
   "metadata": {},
   "outputs": [
    {
     "data": {
      "image/png": "[encoded data removed]",
      "text/plain": [
       "<Figure size 432x288 with 1 Axes>"
      ]
     },
     "metadata": {
      "needs_background": "light"
     },
     "output_type": "display_data"
    }
   ],
   "source": [
    "bins = np.linspace(-10, 10, 10)\n",
    "politics = politics_comm_df['compound'] * 10\n",
    "pcm = pcm_comm_df['compound'] * 10\n",
    "pyplot.hist(politics, bins, alpha=0.5, label='politics')\n",
    "pyplot.hist(pcm, bins, alpha=0.5, label='pcm')\n",
    "pyplot.legend(loc='upper right')\n",
    "pyplot.show()"
   ]
  },
  {
   "cell_type": "code",
   "execution_count": 23,
   "metadata": {},
   "outputs": [
    {
     "data": {
      "image/png": "[encoded data removed]",
      "text/plain": [
       "<Figure size 432x288 with 1 Axes>"
      ]
     },
     "metadata": {
      "needs_background": "light"
     },
     "output_type": "display_data"
    }
   ],
   "source": [
    "bins = np.linspace(-10, 10, 20)\n",
    "s4p = s4p_comm_df['compound'] * 10\n",
    "conservative = conservative_comm_df['compound'] * 10\n",
    "pyplot.hist(s4p, bins, alpha=0.5, label='S4P')\n",
    "pyplot.hist(conservative, bins, alpha=0.5, label='Conservative')\n",
    "pyplot.legend(loc='upper right')\n",
    "pyplot.show()"
   ]
  },
  {
   "cell_type": "code",
   "execution_count": 24,
   "metadata": {},
   "outputs": [],
   "source": [
    "politics_comm_filtered = politics_comm_df[politics_comm_df['label'] == 1]\n",
    "pcm_comm_filtered = pcm_comm_df[pcm_comm_df['label'] == 1]\n",
    "s4p_comm_filtered = s4p_comm_df[s4p_comm_df['label'] == 1]\n",
    "conservative_comm_filtered = conservative_comm_df[conservative_comm_df['label'] == 1]"
   ]
  },
  {
   "cell_type": "code",
   "execution_count": 29,
   "metadata": {},
   "outputs": [
    {
     "data": {
      "image/png": "[encoded data removed]",
      "text/plain": [
       "<Figure size 432x288 with 1 Axes>"
      ]
     },
     "metadata": {
      "needs_background": "light"
     },
     "output_type": "display_data"
    }
   ],
   "source": [
    "data = pd.DataFrame({\"Politics\": politics_comm_filtered[\"compound\"],\n",
    "                     \"PCM\": pcm_comm_filtered[\"compound\"],\n",
    "                     \"S4P\": s4p_comm_filtered[\"compound\"],\n",
    "                     \"Conservative\": conservative_comm_filtered[\"compound\"]})\n",
    "ax = data[['Politics', 'PCM', 'S4P', 'Conservative']].plot(kind='box',\n",
    "                                                          title='Comment Sentiment Score Distribution by Subreddit')"
   ]
  },
  {
   "cell_type": "code",
   "execution_count": 26,
   "metadata": {},
   "outputs": [
    {
     "data": {
      "image/png": "[encoded data removed]",
      "text/plain": [
       "<Figure size 432x288 with 1 Axes>"
      ]
     },
     "metadata": {
      "needs_background": "light"
     },
     "output_type": "display_data"
    }
   ],
   "source": [
    "bins = np.linspace(-10, 10, 20)\n",
    "politics = politics_comm_filtered['compound'] * 10\n",
    "pcm = pcm_comm_filtered['compound'] * 10\n",
    "pyplot.hist(politics, bins, alpha=0.5, label='politics')\n",
    "pyplot.hist(pcm, bins, alpha=0.5, label='pcm')\n",
    "pyplot.legend(loc='upper right')\n",
    "pyplot.show()"
   ]
  },
  {
   "cell_type": "code",
   "execution_count": 27,
   "metadata": {},
   "outputs": [
    {
     "data": {
      "image/png": "[encoded data removed]",
      "text/plain": [
       "<Figure size 432x288 with 1 Axes>"
      ]
     },
     "metadata": {
      "needs_background": "light"
     },
     "output_type": "display_data"
    }
   ],
   "source": [
    "bins = np.linspace(-10, 10, 20)\n",
    "s4p = s4p_comm_filtered['compound'] * 10\n",
    "conservative = conservative_comm_filtered['compound'] * 10\n",
    "pyplot.hist(s4p, bins, alpha=0.5, label='S4P')\n",
    "pyplot.hist(conservative, bins, alpha=0.5, label='Conservative')\n",
    "pyplot.legend(loc='upper right')\n",
    "pyplot.show()"
   ]
  },
  {
   "cell_type": "markdown",
   "metadata": {},
   "source": [
    "# Conclusion"
   ]
  },
  {
   "cell_type": "markdown",
   "metadata": {},
   "source": [
    "Comparing r/Politics to r/PoliticalCompassMemes was not a very fruitful task as PoliticalCompassMemes seems to confuse the VADER analysis in some cases, this is likely due to the large number of inside jokes and contemporary meme references that VADER is perhaps not trained on.\n",
    "\n",
    "While r/Politics was meant to be the \"control\" subreddit to look at, it ended up being more negative than both of the political party subreddits. Perhaps this is due to the fact that there are more clashing ideals on this subreddit.\n",
    "\n",
    "r/SandersForPresident and r/Conservative proved to be an interesting comparison after removing neutral headlines. r/SandersForPresident tended to have much more positive headlines than r/Conservative, while r/Conservative had much more positive comments than r/SandersForPresident. Without removing neutral headlines, however, all subreddits seemed to have an overall neutral sentiment over large numbers of posts.\n",
    "\n",
    "When we think about it, the opposite trends in the subreddits isn't entirely surprising as these are opposing ideologies reacting to the same news. If some world news came out that made conservatives happy, liberal subreddits may be more negative and vice versa. The interesting part is that this trend doesn't affect headlines and comments in the same way. "
   ]
  },
  {
   "cell_type": "code",
   "execution_count": null,
   "metadata": {},
   "outputs": [],
   "source": []
  }
 ],
 "metadata": {
  "kernelspec": {
   "display_name": "Python 3",
   "language": "python",
   "name": "python3"
  },
  "language_info": {
   "codemirror_mode": {
    "name": "ipython",
    "version": 3
   },
   "file_extension": ".py",
   "mimetype": "text/x-python",
   "name": "python",
   "nbconvert_exporter": "python",
   "pygments_lexer": "ipython3",
   "version": "3.8.5"
  }
 },
 "nbformat": 4,
 "nbformat_minor": 4
}
